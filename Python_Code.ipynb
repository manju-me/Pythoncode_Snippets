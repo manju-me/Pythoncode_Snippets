{
  "nbformat": 4,
  "nbformat_minor": 0,
  "metadata": {
    "colab": {
      "name": "Python_Code.ipynb",
      "provenance": [],
      "collapsed_sections": [],
      "include_colab_link": true
    },
    "kernelspec": {
      "name": "python3",
      "display_name": "Python 3"
    }
  },
  "cells": [
    {
      "cell_type": "markdown",
      "metadata": {
        "id": "view-in-github",
        "colab_type": "text"
      },
      "source": [
        "<a href=\"https://colab.research.google.com/github/manju-me/Pythoncode_Snippets/blob/main/Python_Code.ipynb\" target=\"_parent\"><img src=\"https://colab.research.google.com/assets/colab-badge.svg\" alt=\"Open In Colab\"/></a>"
      ]
    },
    {
      "cell_type": "code",
      "metadata": {
        "id": "BJ46tMpqXk_Y"
      },
      "source": [
        ""
      ],
      "execution_count": null,
      "outputs": []
    },
    {
      "cell_type": "markdown",
      "metadata": {
        "id": "G33Na5sFXmky"
      },
      "source": [
        "**Arithmatic Opearions**"
      ]
    },
    {
      "cell_type": "code",
      "metadata": {
        "colab": {
          "base_uri": "https://localhost:8080/"
        },
        "id": "9Dh791giYFPE",
        "outputId": "c6539bae-eb9e-476c-c4b9-6c75db9fcafd"
      },
      "source": [
        "x = 10\n",
        "y = 2\n",
        "print('x + y =',x+y)\n",
        "print('x - y =',x-y)\n",
        "print('x * y =',x*y)\n",
        "print('x / y =',x/y)\n",
        "print('x // y =',x//y)\n",
        "print('x ** y =',x**y)"
      ],
      "execution_count": null,
      "outputs": [
        {
          "output_type": "stream",
          "text": [
            "x + y = 12\n",
            "x - y = 8\n",
            "x * y = 20\n",
            "x / y = 5.0\n",
            "x // y = 5\n",
            "x ** y = 100\n"
          ],
          "name": "stdout"
        }
      ]
    },
    {
      "cell_type": "code",
      "metadata": {
        "id": "1l3Pr02RYdkW"
      },
      "source": [
        ""
      ],
      "execution_count": null,
      "outputs": []
    },
    {
      "cell_type": "code",
      "metadata": {
        "id": "M6xpx1nQYMfG"
      },
      "source": [
        ""
      ],
      "execution_count": null,
      "outputs": []
    },
    {
      "cell_type": "markdown",
      "metadata": {
        "id": "2TQSMIV6YRlK"
      },
      "source": [
        "**Complex 1**"
      ]
    },
    {
      "cell_type": "code",
      "metadata": {
        "colab": {
          "base_uri": "https://localhost:8080/"
        },
        "id": "CxKMEsf5YfDl",
        "outputId": "5a609458-6c23-4aad-9c5a-efe6c52a9b6a"
      },
      "source": [
        "x=2+3j\n",
        "print(x)\n",
        "y=4+5j\n",
        "print(y)\n",
        "print (x+y)\n",
        "print (x-y)\n",
        "print (x/y)\n"
      ],
      "execution_count": null,
      "outputs": [
        {
          "output_type": "stream",
          "text": [
            "(2+3j)\n",
            "(4+5j)\n",
            "(6+8j)\n",
            "(-2-2j)\n",
            "(0.5609756097560976+0.0487804878048781j)\n"
          ],
          "name": "stdout"
        }
      ]
    },
    {
      "cell_type": "code",
      "metadata": {
        "id": "xV5ulzz4Ykc2"
      },
      "source": [
        ""
      ],
      "execution_count": null,
      "outputs": []
    },
    {
      "cell_type": "markdown",
      "metadata": {
        "id": "7TnaKyf6Ynyo"
      },
      "source": [
        "**Conjugate**"
      ]
    },
    {
      "cell_type": "code",
      "metadata": {
        "colab": {
          "base_uri": "https://localhost:8080/"
        },
        "id": "Xv8jFoIAYwNM",
        "outputId": "2a1286a3-a853-4cf6-b4fc-49c481c043e3"
      },
      "source": [
        "z=2+3j\n",
        "y=z.conjugate()\n",
        "print(y);\n"
      ],
      "execution_count": null,
      "outputs": [
        {
          "output_type": "stream",
          "text": [
            "(2-3j)\n"
          ],
          "name": "stdout"
        }
      ]
    },
    {
      "cell_type": "code",
      "metadata": {
        "id": "xhpcreDcY0et"
      },
      "source": [
        ""
      ],
      "execution_count": null,
      "outputs": []
    },
    {
      "cell_type": "markdown",
      "metadata": {
        "id": "_-dUug5BY2C4"
      },
      "source": [
        "**Multiple Variables**"
      ]
    },
    {
      "cell_type": "code",
      "metadata": {
        "colab": {
          "base_uri": "https://localhost:8080/"
        },
        "id": "WlIu-qAcZJHI",
        "outputId": "a395bbda-71c3-4d63-f98b-d350fee5873d"
      },
      "source": [
        "x=y=z=1\n",
        "print(x)\n",
        "print(y)\n",
        "print(z)"
      ],
      "execution_count": null,
      "outputs": [
        {
          "output_type": "stream",
          "text": [
            "1\n",
            "1\n",
            "1\n"
          ],
          "name": "stdout"
        }
      ]
    },
    {
      "cell_type": "code",
      "metadata": {
        "id": "WYQnGigxZMuL"
      },
      "source": [
        ""
      ],
      "execution_count": null,
      "outputs": []
    },
    {
      "cell_type": "markdown",
      "metadata": {
        "id": "GzlRxVa5eOQj"
      },
      "source": [
        "**Multiple Variable**"
      ]
    },
    {
      "cell_type": "code",
      "metadata": {
        "colab": {
          "base_uri": "https://localhost:8080/"
        },
        "id": "uvctg3rYeTG0",
        "outputId": "c5a0b0c0-ae5e-4658-e809-0a44f212f48c"
      },
      "source": [
        "x=y=z=200\n",
        "print (x)\n",
        "print (y)\n",
        "print (z)"
      ],
      "execution_count": null,
      "outputs": [
        {
          "output_type": "stream",
          "text": [
            "200\n",
            "200\n",
            "200\n"
          ],
          "name": "stdout"
        }
      ]
    },
    {
      "cell_type": "code",
      "metadata": {
        "id": "qjjY3hBeeah4"
      },
      "source": [
        ""
      ],
      "execution_count": null,
      "outputs": []
    },
    {
      "cell_type": "markdown",
      "metadata": {
        "id": "dG6s98Q9ecBy"
      },
      "source": [
        "**String 1**"
      ]
    },
    {
      "cell_type": "code",
      "metadata": {
        "colab": {
          "base_uri": "https://localhost:8080/"
        },
        "id": "i99PI4zdeh1W",
        "outputId": "63d8033d-5343-4093-8d65-64e0f1005d04"
      },
      "source": [
        "str1 = 'Hello World'\n",
        "str2 = \"Python Programming\"\n",
        "print (\"var1[0]:\", str1[0])\n",
        "print (\"var2[1:5]: \", str2[1:5])"
      ],
      "execution_count": null,
      "outputs": [
        {
          "output_type": "stream",
          "text": [
            "var1[0]: H\n",
            "var2[1:5]:  ytho\n"
          ],
          "name": "stdout"
        }
      ]
    },
    {
      "cell_type": "code",
      "metadata": {
        "id": "qXX4CQ-Cel6J"
      },
      "source": [
        ""
      ],
      "execution_count": null,
      "outputs": []
    },
    {
      "cell_type": "markdown",
      "metadata": {
        "id": "z1QtjOPcenIo"
      },
      "source": [
        "**String Concat**"
      ]
    },
    {
      "cell_type": "code",
      "metadata": {
        "colab": {
          "base_uri": "https://localhost:8080/"
        },
        "id": "Zwy4rIUxetR-",
        "outputId": "3b3baf12-fbf4-4ea2-8089-098970db63ed"
      },
      "source": [
        "var1 = 'Hello World'\n",
        "print (\"Updated String :- \", var1[:6] + 'Python')"
      ],
      "execution_count": null,
      "outputs": [
        {
          "output_type": "stream",
          "text": [
            "Updated String :-  Hello Python\n"
          ],
          "name": "stdout"
        }
      ]
    },
    {
      "cell_type": "code",
      "metadata": {
        "id": "HMAM0s7Teyaq"
      },
      "source": [
        ""
      ],
      "execution_count": null,
      "outputs": []
    },
    {
      "cell_type": "markdown",
      "metadata": {
        "id": "tps8xAZIez0P"
      },
      "source": [
        "**String Concat 1**"
      ]
    },
    {
      "cell_type": "code",
      "metadata": {
        "colab": {
          "base_uri": "https://localhost:8080/"
        },
        "id": "xNLNZjlKe8Eh",
        "outputId": "81eb0741-4749-4d2e-a483-b6e3f502c351"
      },
      "source": [
        "str1=\"hello\"\n",
        "str2=\"world\"\n",
        "str3=str1+str2\n",
        "print(str3)"
      ],
      "execution_count": null,
      "outputs": [
        {
          "output_type": "stream",
          "text": [
            "helloworld\n"
          ],
          "name": "stdout"
        }
      ]
    },
    {
      "cell_type": "code",
      "metadata": {
        "id": "ohiFAknce9Rd"
      },
      "source": [
        ""
      ],
      "execution_count": null,
      "outputs": []
    },
    {
      "cell_type": "markdown",
      "metadata": {
        "id": "8gL7HO2-e-gj"
      },
      "source": [
        "**String Concat 2**"
      ]
    },
    {
      "cell_type": "code",
      "metadata": {
        "colab": {
          "base_uri": "https://localhost:8080/"
        },
        "id": "Je1eNdCjfD9L",
        "outputId": "627c368f-ae7d-4b9e-b9ae-28bc346b5d0b"
      },
      "source": [
        "print(\"hello \"+\"world\")\n",
        "print(\"Nayak\"+\".\"+\"patil\")"
      ],
      "execution_count": null,
      "outputs": [
        {
          "output_type": "stream",
          "text": [
            "hello world\n",
            "Nayak.patil\n"
          ],
          "name": "stdout"
        }
      ]
    },
    {
      "cell_type": "code",
      "metadata": {
        "id": "zdFTqvEUfH6S"
      },
      "source": [
        ""
      ],
      "execution_count": null,
      "outputs": []
    },
    {
      "cell_type": "markdown",
      "metadata": {
        "id": "YeJc8qVufK1a"
      },
      "source": [
        "**String New Line**"
      ]
    },
    {
      "cell_type": "code",
      "metadata": {
        "colab": {
          "base_uri": "https://localhost:8080/"
        },
        "id": "ocGd322yfRFD",
        "outputId": "5c156b81-ef06-40be-cf1f-3763102ebb41"
      },
      "source": [
        "print(\"first message\\n\\n\");\n",
        "print(\"second message \\n\\n\\n\");"
      ],
      "execution_count": null,
      "outputs": [
        {
          "output_type": "stream",
          "text": [
            "first message\n",
            "\n",
            "\n",
            "second message \n",
            "\n",
            "\n",
            "\n"
          ],
          "name": "stdout"
        }
      ]
    },
    {
      "cell_type": "code",
      "metadata": {
        "id": "IWuxO1e5fUfV"
      },
      "source": [
        ""
      ],
      "execution_count": null,
      "outputs": []
    }
  ]
}